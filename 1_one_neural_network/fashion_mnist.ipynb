{
 "cells": [
  {
   "cell_type": "markdown",
   "metadata": {},
   "source": [
    "# 下载Fashion MNIST数据集"
   ]
  },
  {
   "cell_type": "code",
<<<<<<< HEAD
   "execution_count": 5,
=======
   "execution_count": 1,
>>>>>>> 24bddcf3b6a0320c0ffb42a5c6bebbb697aff63c
   "metadata": {},
   "outputs": [],
   "source": [
    "from tensorflow import keras\n",
    "\n",
    "fashion_mnist=keras.datasets.fashion_mnist\n",
    "(train_imges,train_labels),(test_imges,test_labels)=fashion_mnist.load_data()  #划分数据集"
   ]
  },
  {
   "cell_type": "markdown",
   "metadata": {},
   "source": [
    "# 矩阵转为图片"
   ]
  },
  {
   "cell_type": "code",
<<<<<<< HEAD
   "execution_count": 29,
=======
   "execution_count": 2,
>>>>>>> 24bddcf3b6a0320c0ffb42a5c6bebbb697aff63c
   "metadata": {},
   "outputs": [
    {
     "name": "stdout",
     "output_type": "stream",
     "text": [
      "(28, 28)\n"
     ]
    },
    {
     "data": {
      "text/plain": [
<<<<<<< HEAD
       "<matplotlib.image.AxesImage at 0x26047ec1e88>"
      ]
     },
     "execution_count": 29,
=======
       "<matplotlib.image.AxesImage at 0x7f9afd504280>"
      ]
     },
     "execution_count": 2,
>>>>>>> 24bddcf3b6a0320c0ffb42a5c6bebbb697aff63c
     "metadata": {},
     "output_type": "execute_result"
    },
    {
     "data": {
<<<<<<< HEAD
      "image/png": "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",
=======
      "image/png": "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",
>>>>>>> 24bddcf3b6a0320c0ffb42a5c6bebbb697aff63c
      "text/plain": [
       "<Figure size 432x288 with 1 Axes>"
      ]
     },
     "metadata": {
      "needs_background": "light"
     },
     "output_type": "display_data"
    }
   ],
   "source": [
    "import matplotlib.pyplot as plt\n",
    "print(train_imges[0].shape)  #/查看图片得像素\n",
    "plt.imshow(train_imges[0])"
   ]
  },
  {
   "cell_type": "markdown",
   "metadata": {},
   "source": [
    "# 构建模型"
   ]
  },
  {
   "cell_type": "code",
<<<<<<< HEAD
   "execution_count": 46,
   "metadata": {},
   "outputs": [
    {
     "name": "stdout",
     "output_type": "stream",
     "text": [
      "Epoch 1/70\n",
      "1875/1875 [==============================] - 3s 2ms/step - loss: 2.3028 - accuracy: 0.0973\n",
      "Epoch 2/70\n",
      "1875/1875 [==============================] - 3s 1ms/step - loss: 2.3027 - accuracy: 0.0982\n",
      "Epoch 3/70\n",
      "1875/1875 [==============================] - 3s 1ms/step - loss: 2.3028 - accuracy: 0.0990\n",
      "Epoch 4/70\n",
      "1875/1875 [==============================] - 3s 1ms/step - loss: 2.3027 - accuracy: 0.0991\n",
      "Epoch 5/70\n",
      "1875/1875 [==============================] - 3s 1ms/step - loss: 2.3028 - accuracy: 0.0990\n",
      "Epoch 6/70\n",
      "1875/1875 [==============================] - 3s 1ms/step - loss: 2.3028 - accuracy: 0.0974\n",
      "Epoch 7/70\n",
      "1875/1875 [==============================] - 3s 1ms/step - loss: 2.3027 - accuracy: 0.0997\n",
      "Epoch 8/70\n",
      "1875/1875 [==============================] - 3s 1ms/step - loss: 2.3028 - accuracy: 0.0975\n",
      "Epoch 9/70\n",
      "1875/1875 [==============================] - 3s 1ms/step - loss: 2.3028 - accuracy: 0.0993\n",
      "Epoch 10/70\n",
      "1875/1875 [==============================] - 3s 1ms/step - loss: 2.3028 - accuracy: 0.0979\n",
      "Epoch 11/70\n",
      "1875/1875 [==============================] - 2s 1ms/step - loss: 2.3028 - accuracy: 0.0973\n",
      "Epoch 12/70\n",
      "1875/1875 [==============================] - 3s 1ms/step - loss: 2.3028 - accuracy: 0.0980\n",
      "Epoch 13/70\n",
      "1875/1875 [==============================] - 3s 1ms/step - loss: 2.3028 - accuracy: 0.0979\n",
      "Epoch 14/70\n",
      "1875/1875 [==============================] - 3s 1ms/step - loss: 2.3028 - accuracy: 0.0974\n",
      "Epoch 15/70\n",
      "1875/1875 [==============================] - 3s 1ms/step - loss: 2.3028 - accuracy: 0.0972\n",
      "Epoch 16/70\n",
      "1875/1875 [==============================] - 3s 1ms/step - loss: 2.3028 - accuracy: 0.0967\n",
      "Epoch 17/70\n",
      "1875/1875 [==============================] - 3s 1ms/step - loss: 2.3027 - accuracy: 0.0973\n",
      "Epoch 18/70\n",
      "1875/1875 [==============================] - 3s 1ms/step - loss: 2.3027 - accuracy: 0.0993\n",
      "Epoch 19/70\n",
      "1875/1875 [==============================] - 2s 1ms/step - loss: 2.3028 - accuracy: 0.0981\n",
      "Epoch 20/70\n",
      "1875/1875 [==============================] - 3s 1ms/step - loss: 2.3028 - accuracy: 0.0987\n",
      "Epoch 21/70\n",
      "1875/1875 [==============================] - 3s 1ms/step - loss: 2.3027 - accuracy: 0.1009\n",
      "Epoch 22/70\n",
      "1875/1875 [==============================] - 3s 1ms/step - loss: 2.3028 - accuracy: 0.0979\n",
      "Epoch 23/70\n",
      "1875/1875 [==============================] - 3s 1ms/step - loss: 2.3028 - accuracy: 0.0998\n",
      "Epoch 24/70\n",
      "1875/1875 [==============================] - 3s 1ms/step - loss: 2.3028 - accuracy: 0.0990\n",
      "Epoch 25/70\n",
      "1875/1875 [==============================] - 3s 1ms/step - loss: 2.3028 - accuracy: 0.0975\n",
      "Epoch 26/70\n",
      "1875/1875 [==============================] - 3s 1ms/step - loss: 2.3028 - accuracy: 0.0991\n",
      "Epoch 27/70\n",
      "1875/1875 [==============================] - 3s 1ms/step - loss: 2.3028 - accuracy: 0.0991\n",
      "Epoch 28/70\n",
      "1875/1875 [==============================] - 3s 1ms/step - loss: 2.3028 - accuracy: 0.0986\n",
      "Epoch 29/70\n",
      "1875/1875 [==============================] - 3s 1ms/step - loss: 2.3028 - accuracy: 0.0982\n",
      "Epoch 30/70\n",
      "1875/1875 [==============================] - 3s 1ms/step - loss: 2.3028 - accuracy: 0.1004\n",
      "Epoch 31/70\n",
      "1875/1875 [==============================] - 3s 1ms/step - loss: 2.3028 - accuracy: 0.0996\n",
      "Epoch 32/70\n",
      "1875/1875 [==============================] - 3s 1ms/step - loss: 2.3028 - accuracy: 0.0969\n",
      "Epoch 33/70\n",
      "1875/1875 [==============================] - 3s 1ms/step - loss: 2.3028 - accuracy: 0.0983\n",
      "Epoch 34/70\n",
      "1875/1875 [==============================] - 3s 1ms/step - loss: 2.3027 - accuracy: 0.1011\n",
      "Epoch 35/70\n",
      "1875/1875 [==============================] - 3s 1ms/step - loss: 2.3028 - accuracy: 0.0985\n",
      "Epoch 36/70\n",
      "1875/1875 [==============================] - 3s 1ms/step - loss: 2.3028 - accuracy: 0.0982\n",
      "Epoch 37/70\n",
      "1875/1875 [==============================] - 3s 1ms/step - loss: 2.3028 - accuracy: 0.0986\n",
      "Epoch 38/70\n",
      "1875/1875 [==============================] - ETA: 0s - loss: 2.3028 - accuracy: 0.09 - 3s 1ms/step - loss: 2.3028 - accuracy: 0.0987\n",
      "Epoch 39/70\n",
      "1875/1875 [==============================] - 3s 1ms/step - loss: 2.3028 - accuracy: 0.0987\n",
      "Epoch 40/70\n",
      "1875/1875 [==============================] - 3s 1ms/step - loss: 2.3028 - accuracy: 0.1004\n",
      "Epoch 41/70\n",
      "1875/1875 [==============================] - 3s 1ms/step - loss: 2.3028 - accuracy: 0.0998\n",
      "Epoch 42/70\n",
      "1875/1875 [==============================] - 3s 1ms/step - loss: 2.3028 - accuracy: 0.0980\n",
      "Epoch 43/70\n",
      "1875/1875 [==============================] - 3s 1ms/step - loss: 2.3028 - accuracy: 0.0978\n",
      "Epoch 44/70\n",
      "1875/1875 [==============================] - 3s 1ms/step - loss: 2.3028 - accuracy: 0.0993\n",
      "Epoch 45/70\n",
      "1875/1875 [==============================] - 3s 1ms/step - loss: 2.3027 - accuracy: 0.1006\n",
      "Epoch 46/70\n",
      "1875/1875 [==============================] - 3s 1ms/step - loss: 2.3028 - accuracy: 0.0979\n",
      "Epoch 47/70\n",
      "1875/1875 [==============================] - 3s 2ms/step - loss: 2.3028 - accuracy: 0.0996\n",
      "Epoch 48/70\n",
      "1875/1875 [==============================] - 3s 2ms/step - loss: 2.3028 - accuracy: 0.0966\n",
      "Epoch 49/70\n",
      "1875/1875 [==============================] - 3s 2ms/step - loss: 2.3027 - accuracy: 0.0999: 0s - loss: 2.3028 - accura\n",
      "Epoch 50/70\n",
      "1875/1875 [==============================] - 3s 2ms/step - loss: 2.3028 - accuracy: 0.0997\n",
      "Epoch 51/70\n",
      "1875/1875 [==============================] - 3s 2ms/step - loss: 2.3027 - accuracy: 0.0985\n",
      "Epoch 52/70\n",
      "1875/1875 [==============================] - 3s 2ms/step - loss: 2.3028 - accuracy: 0.0986\n",
      "Epoch 53/70\n",
      "1875/1875 [==============================] - 3s 2ms/step - loss: 2.3028 - accuracy: 0.0974\n",
      "Epoch 54/70\n",
      "1875/1875 [==============================] - 3s 2ms/step - loss: 2.3028 - accuracy: 0.0991\n",
      "Epoch 55/70\n",
      "1875/1875 [==============================] - 3s 2ms/step - loss: 2.3028 - accuracy: 0.0975\n",
      "Epoch 56/70\n",
      "1875/1875 [==============================] - 3s 2ms/step - loss: 2.3028 - accuracy: 0.0986\n",
      "Epoch 57/70\n",
      "1875/1875 [==============================] - 3s 2ms/step - loss: 2.3028 - accuracy: 0.0975\n",
      "Epoch 58/70\n",
      "1875/1875 [==============================] - 3s 2ms/step - loss: 2.3028 - accuracy: 0.0974\n",
      "Epoch 59/70\n",
      "1875/1875 [==============================] - 3s 2ms/step - loss: 2.3027 - accuracy: 0.1005\n",
      "Epoch 60/70\n",
      "1875/1875 [==============================] - 3s 2ms/step - loss: 2.3028 - accuracy: 0.0974\n",
      "Epoch 61/70\n",
      "1875/1875 [==============================] - 3s 2ms/step - loss: 2.3028 - accuracy: 0.0995\n",
      "Epoch 62/70\n",
      "1875/1875 [==============================] - 3s 2ms/step - loss: 2.3028 - accuracy: 0.0977\n",
      "Epoch 63/70\n",
      "1875/1875 [==============================] - 3s 2ms/step - loss: 2.3027 - accuracy: 0.0989\n",
      "Epoch 64/70\n",
      "1875/1875 [==============================] - 3s 2ms/step - loss: 2.3028 - accuracy: 0.0991\n",
      "Epoch 65/70\n",
      "1875/1875 [==============================] - 3s 2ms/step - loss: 2.3028 - accuracy: 0.0986\n",
      "Epoch 66/70\n",
      "1875/1875 [==============================] - 3s 2ms/step - loss: 2.3028 - accuracy: 0.0975\n",
      "Epoch 67/70\n",
      "1875/1875 [==============================] - 3s 2ms/step - loss: 2.3027 - accuracy: 0.0994\n",
      "Epoch 68/70\n",
      "1875/1875 [==============================] - 3s 2ms/step - loss: 2.3028 - accuracy: 0.0980\n",
      "Epoch 69/70\n",
      "1875/1875 [==============================] - 3s 2ms/step - loss: 2.3028 - accuracy: 0.0984\n",
      "Epoch 70/70\n",
      "1875/1875 [==============================] - 3s 2ms/step - loss: 2.3028 - accuracy: 0.0984\n"
     ]
    },
    {
     "data": {
      "text/plain": [
       "<keras.callbacks.History at 0x26041ae6448>"
      ]
     },
     "execution_count": 46,
     "metadata": {},
     "output_type": "execute_result"
    }
   ],
=======
   "execution_count": null,
   "metadata": {},
   "outputs": [],
>>>>>>> 24bddcf3b6a0320c0ffb42a5c6bebbb697aff63c
   "source": [
    "import tensorflow as tf\n",
    "import tensorflow.keras as tk\n",
    "\n",
    "#构建神经元模型\n",
    "model=tk.Sequential([\n",
    "    ##输入层\n",
    "    tk.layers.Flatten(input_shape=(28,28)),  #全连接层\n",
    "    #隐藏层\n",
<<<<<<< HEAD
    "    tk.layers.Dense(units=128,                 #构建128个神经元\n",
=======
    "    keras.layers.Dense(units=128,                 #构建128个神经元\n",
>>>>>>> 24bddcf3b6a0320c0ffb42a5c6bebbb697aff63c
    "                    activation=tf.nn.relu  #激活函数\n",
    "                    ),\n",
    "    #输出层\n",
    "    tk.layers.Dense(units=10,        \n",
    "                    activation=tf.nn.softmax  #(0~1)之间\n",
    "                    )\n",
    "    ])\n",
    "#数据归一化\n",
    "train_imges=train_imges/255\n",
    "\n",
    "#model.summary()  #查看模型\n",
    "#定义优化器和损失函数\n",
    "model.compile(optimizer=\"adam\",\n",
    "                loss='sparse_categorical_crossentropy',\n",
    "                metrics=[\"accuracy\"]\n",
    "                )\n",
<<<<<<< HEAD
    "model.fit(x=train_imges,y=train_labels,epochs=100)\n"
=======
    "model.fit(x=train_imges,y=train_labels,epochs=10)\n"
>>>>>>> 24bddcf3b6a0320c0ffb42a5c6bebbb697aff63c
   ]
  },
  {
   "cell_type": "markdown",
   "metadata": {},
   "source": [
    "# 测试模型"
   ]
  },
  {
   "cell_type": "code",
<<<<<<< HEAD
   "execution_count": 47,
   "metadata": {},
   "outputs": [
    {
     "name": "stdout",
     "output_type": "stream",
     "text": [
      "2\n",
      "6\n"
     ]
    },
    {
     "data": {
      "image/png": "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",
      "text/plain": [
       "<Figure size 432x288 with 1 Axes>"
      ]
     },
     "metadata": {
      "needs_background": "light"
     },
     "output_type": "display_data"
=======
   "execution_count": 1,
   "metadata": {},
   "outputs": [
    {
     "ename": "NameError",
     "evalue": "name 'test_imges' is not defined",
     "output_type": "error",
     "traceback": [
      "\u001b[0;31m---------------------------------------------------------------------------\u001b[0m",
      "\u001b[0;31mNameError\u001b[0m                                 Traceback (most recent call last)",
      "\u001b[0;32m/tmp/ipykernel_314507/1029757981.py\u001b[0m in \u001b[0;36m<module>\u001b[0;34m\u001b[0m\n\u001b[1;32m      1\u001b[0m \u001b[0;32mimport\u001b[0m \u001b[0mnumpy\u001b[0m \u001b[0;32mas\u001b[0m \u001b[0mnp\u001b[0m\u001b[0;34m\u001b[0m\u001b[0;34m\u001b[0m\u001b[0m\n\u001b[1;32m      2\u001b[0m \u001b[0;32mimport\u001b[0m \u001b[0mmatplotlib\u001b[0m\u001b[0;34m.\u001b[0m\u001b[0mpyplot\u001b[0m  \u001b[0;32mas\u001b[0m \u001b[0mplt\u001b[0m\u001b[0;34m\u001b[0m\u001b[0;34m\u001b[0m\u001b[0m\n\u001b[0;32m----> 3\u001b[0;31m \u001b[0mtest_imges_sd\u001b[0m\u001b[0;34m=\u001b[0m\u001b[0mtest_imges\u001b[0m\u001b[0;34m/\u001b[0m\u001b[0;36m255\u001b[0m  \u001b[0;31m#数据归一化\u001b[0m\u001b[0;34m\u001b[0m\u001b[0;34m\u001b[0m\u001b[0m\n\u001b[0m\u001b[1;32m      4\u001b[0m \u001b[0mplt\u001b[0m\u001b[0;34m.\u001b[0m\u001b[0mimshow\u001b[0m\u001b[0;34m(\u001b[0m\u001b[0mtest_imges_sd\u001b[0m\u001b[0;34m[\u001b[0m\u001b[0;36m0\u001b[0m\u001b[0;34m]\u001b[0m\u001b[0;34m)\u001b[0m\u001b[0;34m\u001b[0m\u001b[0;34m\u001b[0m\u001b[0m\n\u001b[1;32m      5\u001b[0m \u001b[0;34m\u001b[0m\u001b[0m\n",
      "\u001b[0;31mNameError\u001b[0m: name 'test_imges' is not defined"
     ]
>>>>>>> 24bddcf3b6a0320c0ffb42a5c6bebbb697aff63c
    }
   ],
   "source": [
    "import numpy as np\n",
<<<<<<< HEAD
    "test_imges_sd=test_imges/255  #数据归一化\n",
    "plt.imshow(test_imges_sd[0])\n",
    "#model_test=model.evaluate(test_imges,test_labels)  #模型评估\n",
    "#demo=tf.reshape(test_imges[0],(1,28,28))\n",
    "#print(demo.shape)\n",
    "prediction=model.predict(test_imges_sd)[4]\n",
    "print(np.argmax(prediction))\n",
    "print(test_labels[4])"
=======
    "import matplotlib.pyplot  as plt\n",
    "test_imges_sd=test_imges/255  #数据归一化\n",
    "plt.imshow(test_imges_sd[0])\n",
    "\n",
    "model_test=model.evaluate(test_imges,test_labels)  #模型评估\n",
    "print(model_test)\n",
    "#demo=tf.reshape(test_imges[0],(1,28,28))\n",
    "#print(demo.shape)\n",
    "prediction=model.predict(test_imges_sd)[0]\n",
    "print(np.argmax(prediction))\n",
    "print(test_labels[0])"
>>>>>>> 24bddcf3b6a0320c0ffb42a5c6bebbb697aff63c
   ]
  }
 ],
 "metadata": {
  "interpreter": {
   "hash": "8f03fb8992b0e5aa6a67cd56eb653950a01f214acb97d94a2178dd1aa47d1bcf"
  },
  "kernelspec": {
   "display_name": "Python 3.7.6 ('base')",
   "language": "python",
   "name": "python3"
  },
  "language_info": {
   "codemirror_mode": {
    "name": "ipython",
    "version": 3
   },
   "file_extension": ".py",
   "mimetype": "text/x-python",
   "name": "python",
   "nbconvert_exporter": "python",
   "pygments_lexer": "ipython3",
<<<<<<< HEAD
   "version": "3.7.6"
=======
   "version": "3.9.7"
>>>>>>> 24bddcf3b6a0320c0ffb42a5c6bebbb697aff63c
  },
  "orig_nbformat": 4
 },
 "nbformat": 4,
 "nbformat_minor": 2
}
