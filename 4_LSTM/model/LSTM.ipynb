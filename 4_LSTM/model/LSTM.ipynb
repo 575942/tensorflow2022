{
 "cells": [
  {
   "cell_type": "code",
   "execution_count": 4,
   "metadata": {},
   "outputs": [],
   "source": [
    "import tensorflow as tf\n",
    "from tensorflow.keras.preprocessing.text import Tokenizer  #词向量化\n",
    "from tensorflow.keras.preprocessing.sequence import pad_sequences  #序列矩阵\n",
    "import pandas as pd\n",
    "import numpy as np\n",
    "import matplotlib.pyplot as plt"
   ]
  },
  {
   "cell_type": "code",
   "execution_count": 5,
   "metadata": {},
   "outputs": [],
   "source": [
    "train_size=20000\n",
    "max_length=32   #最大序列长度\n",
    "padding_type=\"post\"\n",
    "truncating_type=\"post\"\n",
    "vocab_size=10000  #词典单词数量\n",
    "embedding_dim=5"
   ]
  },
  {
   "cell_type": "markdown",
   "metadata": {},
   "source": [
    "# 数据预处理"
   ]
  },
  {
   "cell_type": "code",
   "execution_count": 6,
   "metadata": {},
   "outputs": [],
   "source": [
    "path=r\"/home/bdai/718/tensroflow2022/4_LSTM/data/all.csv\"\n",
    "df=pd.read_csv(path)\n",
    "#data=df[\"content\"][0]\n",
    "#corpus=data.lower().split(\"\\n\")\n",
    "#corpus=[item.replace(\"\\r\",\"\") for item in corpus]  #去除符号\n",
    "#corpus=[item for item in corpus if item !=\"\"]  #去除空值\n",
    "#print(corpus)\n",
    "da=df[\"content\"][:]\n",
    "da=da.tolist()  #转为列表\n",
    "cor=[]\n",
    "for item in da:\n",
    "    cor.extend(item.split(\"\\n\"))\n",
    "cor=[item.replace(\"\\r\",\"\") for item in cor]  #去除符号\n",
    "corpus=[item for item in cor if item!=\"\"]  #去除空值\n",
    "#print(corpus)"
   ]
  },
  {
   "cell_type": "code",
   "execution_count": 7,
   "metadata": {},
   "outputs": [
    {
     "name": "stdout",
     "output_type": "stream",
     "text": [
      "11912\n"
     ]
    }
   ],
   "source": [
    "'''构建词典'''\n",
    "tokenizer=Tokenizer()\n",
    "tokenizer.fit_on_texts(corpus)\n",
    "word_index=tokenizer.word_index\n",
    "#print(word_index)\n",
    "total_words=len(tokenizer.word_index)+1\n",
    "print(total_words)"
   ]
  },
  {
   "cell_type": "code",
   "execution_count": 8,
   "metadata": {},
   "outputs": [],
   "source": [
    "input_seq=[]  #记录单词数\n",
    "for line in corpus:\n",
    "    token_list=tokenizer.texts_to_sequences([line])[0]  #序列化\n",
    "    for i in range(1,len(token_list)):\n",
    "        n_seq=token_list[:i+1]\n",
    "        input_seq.append(n_seq)\n",
    "        #print(n_seq)\n",
    "#print(input_seq)"
   ]
  },
  {
   "cell_type": "code",
   "execution_count": 9,
   "metadata": {},
   "outputs": [
    {
     "name": "stdout",
     "output_type": "stream",
     "text": [
      "86\n",
      "[0. 1. 0. ... 0. 0. 0.]\n",
      "(86291, 85)\n"
     ]
    }
   ],
   "source": [
    "'''词典矩阵'''\n",
    "max_seq_len=max([len(x) for x in input_seq])  #句子的最大长度\n",
    "print(max_seq_len)\n",
    "input_seq=np.array(pad_sequences(input_seq,\n",
    "                                maxlen=max_seq_len, \n",
    "                                padding=\"pre\"  #在前面加0\n",
    "                                ))\n",
    "'''划分数据'''\n",
    "xs=input_seq[:,:-1]  #训练数据\n",
    "labels=input_seq[:,-1]  #预测的词\n",
    "ys=tf.keras.utils.to_categorical(labels,num_classes=total_words)  #转为one-hot编码\n",
    "print(ys[0])\n",
    "print(xs.shape)"
   ]
  },
  {
   "cell_type": "markdown",
   "metadata": {},
   "source": [
    "# 构建神经网络模型"
   ]
  },
  {
   "cell_type": "code",
   "execution_count": 31,
   "metadata": {},
   "outputs": [
    {
     "name": "stderr",
     "output_type": "stream",
     "text": [
      "2022-04-22 16:43:46.818130: W tensorflow/core/framework/cpu_allocator_impl.cc:82] Allocation of 4111593568 exceeds 10% of free system memory.\n",
      "2022-04-22 16:43:56.409470: W tensorflow/core/framework/cpu_allocator_impl.cc:82] Allocation of 4111593568 exceeds 10% of free system memory.\n"
     ]
    },
    {
     "name": "stdout",
     "output_type": "stream",
     "text": [
      "Epoch 1/35\n",
      "2697/2697 [==============================] - 56s 20ms/step - loss: 7.2682 - accuracy: 0.0544\n",
      "Epoch 2/35\n",
      "2697/2697 [==============================] - 53s 20ms/step - loss: 6.4659 - accuracy: 0.0829\n",
      "Epoch 3/35\n",
      "2697/2697 [==============================] - 53s 20ms/step - loss: 5.8294 - accuracy: 0.1138\n",
      "Epoch 4/35\n",
      "2697/2697 [==============================] - 53s 20ms/step - loss: 5.1751 - accuracy: 0.1581\n",
      "Epoch 5/35\n",
      "2697/2697 [==============================] - 53s 20ms/step - loss: 4.5387 - accuracy: 0.2196\n",
      "Epoch 6/35\n",
      "2697/2697 [==============================] - 53s 20ms/step - loss: 3.9609 - accuracy: 0.2942\n",
      "Epoch 7/35\n",
      "2697/2697 [==============================] - 52s 19ms/step - loss: 3.4538 - accuracy: 0.3724\n",
      "Epoch 8/35\n",
      "2697/2697 [==============================] - 52s 19ms/step - loss: 3.0223 - accuracy: 0.4421\n",
      "Epoch 9/35\n",
      "2697/2697 [==============================] - 52s 19ms/step - loss: 2.6602 - accuracy: 0.5036\n",
      "Epoch 10/35\n",
      "2697/2697 [==============================] - 52s 19ms/step - loss: 2.3619 - accuracy: 0.5558\n",
      "Epoch 11/35\n",
      "2697/2697 [==============================] - 52s 19ms/step - loss: 2.1135 - accuracy: 0.6011\n",
      "Epoch 12/35\n",
      "2697/2697 [==============================] - 52s 19ms/step - loss: 1.9055 - accuracy: 0.6365\n",
      "Epoch 13/35\n",
      "2697/2697 [==============================] - 52s 19ms/step - loss: 1.7351 - accuracy: 0.6663\n",
      "Epoch 14/35\n",
      "2697/2697 [==============================] - 52s 19ms/step - loss: 1.5907 - accuracy: 0.6932\n",
      "Epoch 15/35\n",
      "2697/2697 [==============================] - 52s 19ms/step - loss: 1.4702 - accuracy: 0.7143\n",
      "Epoch 16/35\n",
      "2697/2697 [==============================] - 53s 20ms/step - loss: 1.3685 - accuracy: 0.7328\n",
      "Epoch 17/35\n",
      "2697/2697 [==============================] - 53s 20ms/step - loss: 1.2822 - accuracy: 0.7478\n",
      "Epoch 18/35\n",
      "2697/2697 [==============================] - 53s 20ms/step - loss: 1.2082 - accuracy: 0.7605\n",
      "Epoch 19/35\n",
      "2697/2697 [==============================] - 52s 19ms/step - loss: 1.1471 - accuracy: 0.7723\n",
      "Epoch 20/35\n",
      "2697/2697 [==============================] - 53s 20ms/step - loss: 1.0947 - accuracy: 0.7809\n",
      "Epoch 21/35\n",
      "2697/2697 [==============================] - 53s 20ms/step - loss: 1.0489 - accuracy: 0.7894\n",
      "Epoch 22/35\n",
      "2697/2697 [==============================] - 53s 20ms/step - loss: 1.0112 - accuracy: 0.7949\n",
      "Epoch 23/35\n",
      "2697/2697 [==============================] - 53s 20ms/step - loss: 0.9769 - accuracy: 0.8011\n",
      "Epoch 24/35\n",
      "2697/2697 [==============================] - 53s 20ms/step - loss: 0.9516 - accuracy: 0.8052\n",
      "Epoch 25/35\n",
      "2697/2697 [==============================] - 53s 20ms/step - loss: 0.9254 - accuracy: 0.8092\n",
      "Epoch 26/35\n",
      "2697/2697 [==============================] - 53s 20ms/step - loss: 0.9075 - accuracy: 0.8111\n",
      "Epoch 27/35\n",
      "2697/2697 [==============================] - 53s 20ms/step - loss: 0.8889 - accuracy: 0.8133\n",
      "Epoch 28/35\n",
      "2697/2697 [==============================] - 52s 19ms/step - loss: 0.8747 - accuracy: 0.8155\n",
      "Epoch 29/35\n",
      "2697/2697 [==============================] - 53s 19ms/step - loss: 0.8613 - accuracy: 0.8174\n",
      "Epoch 30/35\n",
      "2697/2697 [==============================] - 53s 20ms/step - loss: 0.8497 - accuracy: 0.8189\n",
      "Epoch 31/35\n",
      "2697/2697 [==============================] - 53s 20ms/step - loss: 0.8409 - accuracy: 0.8196\n",
      "Epoch 32/35\n",
      "2697/2697 [==============================] - 53s 20ms/step - loss: 0.8309 - accuracy: 0.8214\n",
      "Epoch 33/35\n",
      "2697/2697 [==============================] - 53s 20ms/step - loss: 0.8247 - accuracy: 0.8220\n",
      "Epoch 34/35\n",
      "2697/2697 [==============================] - 53s 20ms/step - loss: 0.8165 - accuracy: 0.8224\n",
      "Epoch 35/35\n",
      "2697/2697 [==============================] - 53s 20ms/step - loss: 0.8105 - accuracy: 0.8226\n"
     ]
    }
   ],
   "source": [
    "model=tf.keras.Sequential([\n",
    "    tf.keras.layers.Embedding(total_words,  #词典中单词的数量\n",
    "                            240,  #将每个数字转为固定维度为240的向量\n",
    "                            input_length=max_seq_len-1  #我们把序列的最后一个值都去掉了\n",
    "                            ),\n",
    "    tf.keras.layers.Bidirectional(tf.keras.layers.LSTM(150)),  #双向循环\n",
    "    tf.keras.layers.Dense(units=total_words,activation=\"softmax\")\n",
    "])\n",
    "\n",
    "model.compile(loss=\"categorical_crossentropy\",optimizer=\"adam\",metrics=[\"accuracy\"])\n",
    "\n",
    "hist=model.fit(xs,ys,epochs=35)"
   ]
  },
  {
   "cell_type": "code",
   "execution_count": 32,
   "metadata": {},
   "outputs": [
    {
     "data": {
      "image/png": "[encoded data removed]",
      "text/plain": [
       "<Figure size 576x288 with 2 Axes>"
      ]
     },
     "metadata": {
      "needs_background": "light"
     },
     "output_type": "display_data"
    }
   ],
   "source": [
    "# define the function\n",
    "def training_vis(hist):\n",
    "    loss = hist.history['loss']\n",
    "    #val_loss = hist.history['val_loss']\n",
    "    acc = hist.history['accuracy']  # new version => hist.history['accuracy'] \n",
    "    #val_acc = hist.history['val_accuracy'] #=> hist.history['val_accuracy'] \n",
    "    \n",
    "    # make a figure\n",
    "    fig = plt.figure(figsize=(8,4))\n",
    "    # subplot loss\n",
    "    ax1 = fig.add_subplot(121)\n",
    "    ax1.plot(loss,label='train_loss')\n",
    "    #ax1.plot(val_loss,label='val_loss')\n",
    "    ax1.set_xlabel('Epochs')\n",
    "    ax1.set_ylabel('Loss')\n",
    "    ax1.set_title('Loss on Training and Validation Data')\n",
    "    ax1.legend()\n",
    "    # subplot acc\n",
    "    ax2 = fig.add_subplot(122)\n",
    "    ax2.plot(acc,label='train_acc')\n",
    "    #ax2.plot(val_acc,label='val_acc')\n",
    "    ax2.set_xlabel('Epochs')\n",
    "    ax2.set_ylabel('Accuracy')\n",
    "    ax2.set_title('Accuracy  on Training and Validation Data')\n",
    "    ax2.legend()\n",
    "    plt.tight_layout()\n",
    "\n",
    "training_vis(hist)"
   ]
  },
  {
   "cell_type": "markdown",
   "metadata": {},
   "source": [
    "# 模型测试"
   ]
  },
  {
   "cell_type": "code",
   "execution_count": 33,
   "metadata": {},
   "outputs": [],
   "source": [
    "data=df[\"content\"][0]\n",
    "corpus=data.lower().split(\"\\n\")\n",
    "corpus=[item.replace(\"\\r\",\"\") for item in corpus]  #去除符号\n",
    "corpus=[item for item in corpus if item !=\"\"]  #去除空值\n",
    "#print(corpus)"
   ]
  },
  {
   "cell_type": "code",
   "execution_count": 36,
   "metadata": {},
   "outputs": [
    {
     "name": "stdout",
     "output_type": "stream",
     "text": [
      "I trained an artificial intellectual disability light and right all the grave and blind love are sought but still in him hear dead and blind and full again attend for high pressure\n"
     ]
    }
   ],
   "source": [
    "seed_text=\"I trained an artificial intellectual disability\"\n",
    "next_word=26  #预测后面词的数量\n",
    "\n",
    "for i in range(next_word):\n",
    "    token_list=tokenizer.texts_to_sequences([seed_text])[0]  #序列化\n",
    "    token_list=np.array(pad_sequences([token_list],\n",
    "                                maxlen=max_seq_len-1, \n",
    "                                padding=\"pre\"  #在前面加0\n",
    "                                ))\n",
    "    #p3rint(token_list)\n",
    "    pre_result=model.predict(token_list)  #预测的结果是one-hot编码\n",
    "    pre_result=np.argmax(pre_result,axis=1)  #改为数字\n",
    "\n",
    "    for word,index in tokenizer.word_index.items():  #循环中找到数字对应的词\n",
    "        if index==pre_result:\n",
    "            output_word=word\n",
    "            break \n",
    "    seed_text+=\" \"+output_word\n",
    "    \n",
    "print(seed_text)"
   ]
  },
  {
   "cell_type": "markdown",
   "metadata": {},
   "source": [
    "# 模型保存"
   ]
  },
  {
   "cell_type": "code",
   "execution_count": 1,
   "metadata": {},
   "outputs": [
    {
     "name": "stderr",
     "output_type": "stream",
     "text": [
      "2022-04-22 21:28:10.929644: I tensorflow/stream_executor/cuda/cuda_gpu_executor.cc:936] successful NUMA node read from SysFS had negative value (-1), but there must be at least one NUMA node, so returning NUMA node zero\n",
      "2022-04-22 21:28:10.952779: I tensorflow/stream_executor/cuda/cuda_gpu_executor.cc:936] successful NUMA node read from SysFS had negative value (-1), but there must be at least one NUMA node, so returning NUMA node zero\n",
      "2022-04-22 21:28:10.953282: I tensorflow/stream_executor/cuda/cuda_gpu_executor.cc:936] successful NUMA node read from SysFS had negative value (-1), but there must be at least one NUMA node, so returning NUMA node zero\n",
      "2022-04-22 21:28:10.954943: I tensorflow/core/platform/cpu_feature_guard.cc:151] This TensorFlow binary is optimized with oneAPI Deep Neural Network Library (oneDNN) to use the following CPU instructions in performance-critical operations:  AVX2 AVX512F FMA\n",
      "To enable them in other operations, rebuild TensorFlow with the appropriate compiler flags.\n",
      "2022-04-22 21:28:10.957286: I tensorflow/stream_executor/cuda/cuda_gpu_executor.cc:936] successful NUMA node read from SysFS had negative value (-1), but there must be at least one NUMA node, so returning NUMA node zero\n",
      "2022-04-22 21:28:10.957737: I tensorflow/stream_executor/cuda/cuda_gpu_executor.cc:936] successful NUMA node read from SysFS had negative value (-1), but there must be at least one NUMA node, so returning NUMA node zero\n",
      "2022-04-22 21:28:10.958144: I tensorflow/stream_executor/cuda/cuda_gpu_executor.cc:936] successful NUMA node read from SysFS had negative value (-1), but there must be at least one NUMA node, so returning NUMA node zero\n",
      "2022-04-22 21:28:12.156192: I tensorflow/stream_executor/cuda/cuda_gpu_executor.cc:936] successful NUMA node read from SysFS had negative value (-1), but there must be at least one NUMA node, so returning NUMA node zero\n",
      "2022-04-22 21:28:12.156691: I tensorflow/stream_executor/cuda/cuda_gpu_executor.cc:936] successful NUMA node read from SysFS had negative value (-1), but there must be at least one NUMA node, so returning NUMA node zero\n",
      "2022-04-22 21:28:12.157043: I tensorflow/stream_executor/cuda/cuda_gpu_executor.cc:936] successful NUMA node read from SysFS had negative value (-1), but there must be at least one NUMA node, so returning NUMA node zero\n",
      "2022-04-22 21:28:12.157416: I tensorflow/core/common_runtime/gpu/gpu_device.cc:1525] Created device /job:localhost/replica:0/task:0/device:GPU:0 with 9692 MB memory:  -> device: 0, name: GRID P40-12C, pci bus id: 0000:01:00.0, compute capability: 6.1\n"
     ]
    }
   ],
   "source": [
    "#model_save_path = \"lstm.h5\"\n",
    "# 保存模型\n",
    "#model.save(model_save_path)\n",
    "# 删除当前已存在的模型\n",
    "#del model\n",
    "# 加载模型\n",
    "from keras.models import load_model\n",
    "path=r\"/home/bdai/718/tensroflow2022/4_LSTM/model/lstm.h5\"\n",
    "model=load_model(path)"
   ]
  },
  {
   "cell_type": "code",
   "execution_count": 13,
   "metadata": {},
   "outputs": [
    {
     "name": "stdout",
     "output_type": "stream",
     "text": [
      "I trained an artificial intellectual disability light and right all the grave and blind love are sought but still in him hear dead and blind and full again attend for high pressure of the dust into the storm she halfe and her wake us rest did rest him first all dead in copyright thread as the woman only meet the eagle and the dove to the last hands into the iron men are long along the anecdote and long along and freeze by men for pray and fashion and increase the broad leafless and my increase the poem the false doth take run up and the\n"
     ]
    }
   ],
   "source": [
    "seed_text=\"I trained an artificial intellectual disability\"\n",
    "next_word=100  #预测后面词的数量\n",
    "\n",
    "for i in range(next_word):\n",
    "    token_list=tokenizer.texts_to_sequences([seed_text])[0]  #序列化\n",
    "    token_list=np.array(pad_sequences([token_list],\n",
    "                                maxlen=max_seq_len-1, \n",
    "                                padding=\"pre\"  #在前面加0\n",
    "                                ))\n",
    "    #p3rint(token_list)\n",
    "    pre_result=model.predict(token_list)  #预测的结果是one-hot编码\n",
    "    pre_result=np.argmax(pre_result,axis=1)  #改为数字\n",
    "\n",
    "    for word,index in tokenizer.word_index.items():  #循环中找到数字对应的词\n",
    "        if index==pre_result:\n",
    "            output_word=word\n",
    "            break \n",
    "    seed_text+=\" \"+output_word\n",
    "    \n",
    "print(seed_text)"
   ]
  }
 ],
 "metadata": {
  "interpreter": {
   "hash": "b96b51dc487dadcf8213059c500924d6efd4c44314f2a276dd26dd980a57e41f"
  },
  "kernelspec": {
   "display_name": "Python 3.9.7 ('base')",
   "language": "python",
   "name": "python3"
  },
  "language_info": {
   "codemirror_mode": {
    "name": "ipython",
    "version": 3
   },
   "file_extension": ".py",
   "mimetype": "text/x-python",
   "name": "python",
   "nbconvert_exporter": "python",
   "pygments_lexer": "ipython3",
   "version": "3.9.7"
  },
  "orig_nbformat": 4
 },
 "nbformat": 4,
 "nbformat_minor": 2
}
