{
 "cells": [
  {
   "cell_type": "code",
   "execution_count": 29,
   "metadata": {},
   "outputs": [],
   "source": [
    "import json\n",
    "import jsonpath\n",
    "from tensorflow.keras.preprocessing.text import Tokenizer  #词向量化\n",
    "from tensorflow.keras.preprocessing.sequence import pad_sequences  #序列矩阵"
   ]
  },
  {
   "cell_type": "markdown",
   "metadata": {},
   "source": [
    "# 1、preprocess_data"
   ]
  },
  {
   "cell_type": "code",
   "execution_count": 30,
   "metadata": {},
   "outputs": [],
   "source": [
    "path=r\"/home/bdai/718/tensroflow2022/3_Word Vectorization/case/Sarcasm/data/Sarcasm_Headlines_Dataset.json\"\n",
    "with open(path,\"r\",encoding=\"utf-8\")as f:\n",
    "    data=f.readlines()\n",
    "data=[eval(item)  for item in data]\n",
    "sentence=[]\n",
    "labels=[]\n",
    "urls=[]\n",
    "for i in range(len(data)):\n",
    "    sentence.append(data[i][\"headline\"])\n",
    "    labels.append(data[i][\"is_sarcastic\"])\n",
    "    urls.append(data[i][\"article_link\"])"
   ]
  },
  {
   "cell_type": "markdown",
   "metadata": {},
   "source": [
    "# 划分数据集"
   ]
  },
  {
   "cell_type": "code",
   "execution_count": 31,
   "metadata": {},
   "outputs": [],
   "source": [
    "train_size=20000\n",
    "max_length=32   #最大序列长度\n",
    "padding_type=\"post\"\n",
    "truncating_type=\"post\"\n",
    "vocab_size=10000  #词典单词数量\n",
    "embedding_dim=5"
   ]
  },
  {
   "cell_type": "code",
   "execution_count": 32,
   "metadata": {},
   "outputs": [
    {
     "name": "stdout",
     "output_type": "stream",
     "text": [
      "20000\n",
      "20000\n",
      "6709\n",
      "6709\n"
     ]
    }
   ],
   "source": [
    "train_sentence=sentence[:train_size]\n",
    "train_labels=labels[:train_size]\n",
    "test_sentence=sentence[train_size:]\n",
    "test_labels=labels[train_size:]\n",
    "print(len(train_sentence))\n",
    "print(len(train_labels))\n",
    "print(len(test_sentence))\n",
    "print(len(test_labels))"
   ]
  },
  {
   "cell_type": "code",
   "execution_count": 33,
   "metadata": {},
   "outputs": [],
   "source": [
    "tokenizer=Tokenizer(num_words=vocab_size,oov_token=\"oov\")\n",
    "tokenizer.fit_on_texts(train_sentence)  #构建词向量词典\n",
    "#查看词典\n",
    "word_index=tokenizer.word_index\n",
    "#向量序列化,词矩阵\n",
    "train_seq=tokenizer.texts_to_sequences(train_sentence)\n",
    "#去除多余的0\n",
    "train_pad=pad_sequences(train_seq,\n",
    "                maxlen=max_length,\n",
    "                padding=padding_type,  #选择将0放在后面\n",
    "                truncating=truncating_type  #从尾部删除\n",
    "                )  \n",
    "\n",
    "#向量序列化,词矩阵\n",
    "test_seq=tokenizer.texts_to_sequences(train_sentence)\n",
    "#去除多余的0\n",
    "test_pad=pad_sequences(train_seq,\n",
    "                maxlen=max_length,\n",
    "                padding=padding_type,  #选择将0放在后面\n",
    "                truncating=truncating_type  #从尾部删除\n",
    "                ) "
   ]
  },
  {
   "cell_type": "markdown",
   "metadata": {},
   "source": [
    "到这里，我们将句子转变为数字代替的矩阵，那么是如果确定这个句子情感呢？这里就涉及到了**embedding**了"
   ]
  },
  {
   "cell_type": "markdown",
   "metadata": {},
   "source": [
    "# Word_Embedding\n",
    "\n",
    "    tf.keras.layers.Embedding(\n",
    "    input_dim,   #输入数据最大下标+1\n",
    "    output_dim,  #每个数字转为的长度\n",
    "    embeddings_initializer='uniform',  #嵌入矩阵的初始化方法，为预定义初始化方法名的字符串，或用于初始化权重的初始化器\n",
    "    embeddings_regularizer=None,  #嵌入矩阵的正则项，为Regularizer对象 \n",
    "    embeddings_constraint=None, #嵌入矩阵的约束项，为Constraints对象\n",
    "    mask_zero=False,\n",
    "    input_length=None,  #输入数据的维度\n",
    "    **kwargs)\n"
   ]
  },
  {
   "cell_type": "code",
   "execution_count": 34,
   "metadata": {},
   "outputs": [],
   "source": [
    "import tensorflow_datasets as tfds  #导入数据包\n",
    "import tensorflow as tf\n",
    "import numpy as np\n",
    "import matplotlib.pyplot as plt"
   ]
  },
  {
   "cell_type": "code",
   "execution_count": 35,
   "metadata": {},
   "outputs": [],
   "source": [
    "train_labels=np.array(train_labels)\n",
    "test_labels=np.array(train_labels)"
   ]
  },
  {
   "cell_type": "code",
   "execution_count": 36,
   "metadata": {},
   "outputs": [
    {
     "name": "stdout",
     "output_type": "stream",
     "text": [
      "Model: \"sequential_10\"\n",
      "_________________________________________________________________\n",
      " Layer (type)                Output Shape              Param #   \n",
      "=================================================================\n",
      " embedding_10 (Embedding)    (None, 32, 16)            160000    \n",
      "                                                                 \n",
      " flatten_8 (Flatten)         (None, 512)               0         \n",
      "                                                                 \n",
      " dense_20 (Dense)            (None, 4)                 2052      \n",
      "                                                                 \n",
      " dense_21 (Dense)            (None, 1)                 5         \n",
      "                                                                 \n",
      "=================================================================\n",
      "Total params: 162,057\n",
      "Trainable params: 162,057\n",
      "Non-trainable params: 0\n",
      "_________________________________________________________________\n",
      "Epoch 1/10\n",
      "625/625 [==============================] - 3s 5ms/step - loss: 0.4679 - accuracy: 0.7716 - val_loss: 0.2403 - val_accuracy: 0.9151\n",
      "Epoch 2/10\n",
      "625/625 [==============================] - 3s 5ms/step - loss: 0.2198 - accuracy: 0.9135 - val_loss: 0.1211 - val_accuracy: 0.9664\n",
      "Epoch 3/10\n",
      "625/625 [==============================] - 3s 5ms/step - loss: 0.1185 - accuracy: 0.9610 - val_loss: 0.0574 - val_accuracy: 0.9870\n",
      "Epoch 4/10\n",
      "625/625 [==============================] - 3s 5ms/step - loss: 0.0560 - accuracy: 0.9845 - val_loss: 0.0245 - val_accuracy: 0.9958\n",
      "Epoch 5/10\n",
      "625/625 [==============================] - 3s 5ms/step - loss: 0.0244 - accuracy: 0.9949 - val_loss: 0.0121 - val_accuracy: 0.9984\n",
      "Epoch 6/10\n",
      "625/625 [==============================] - 3s 5ms/step - loss: 0.0109 - accuracy: 0.9982 - val_loss: 0.0056 - val_accuracy: 0.9993\n",
      "Epoch 7/10\n",
      "625/625 [==============================] - 3s 5ms/step - loss: 0.0055 - accuracy: 0.9992 - val_loss: 0.0031 - val_accuracy: 0.9995\n",
      "Epoch 8/10\n",
      "625/625 [==============================] - 3s 5ms/step - loss: 0.0032 - accuracy: 0.9993 - val_loss: 0.0021 - val_accuracy: 0.9995\n",
      "Epoch 9/10\n",
      "625/625 [==============================] - 3s 5ms/step - loss: 0.0021 - accuracy: 0.9995 - val_loss: 0.0014 - val_accuracy: 0.9997\n",
      "Epoch 10/10\n",
      "625/625 [==============================] - 3s 5ms/step - loss: 0.0018 - accuracy: 0.9996 - val_loss: 0.0010 - val_accuracy: 0.9997\n"
     ]
    }
   ],
   "source": [
    "model=tf.keras.Sequential([\n",
    "    tf.keras.layers.Embedding(vocab_size,      #每条文字转为数字存储时候的最大长度\n",
    "                            embedding_dim,    #将每个数字转为固定维度为16的向量\n",
    "                            input_length=max_length      #列长\n",
    "                            ),\n",
    "    tf.keras.layers.Flatten(),  #全连接层\n",
    "    #tf.keras.layers.GlobalAveragePooling1D(), #全局平均池化层，在每个维度的向量上取平均值进行输出\n",
    "    tf.keras.layers.Dense(units=4,activation=\"relu\"),\n",
    "    tf.keras.layers.Dense(units=1,activation=\"sigmoid\")\n",
    "])\n",
    "\n",
    "model.compile(loss=\"binary_crossentropy\",optimizer=\"adam\",metrics=[\"accuracy\"])\n",
    "model.summary()\n",
    "hist=model.fit(train_pad,train_labels,epochs=10,validation_data=(test_pad,test_labels))\n"
   ]
  },
  {
   "cell_type": "code",
   "execution_count": 37,
   "metadata": {},
   "outputs": [
    {
     "data": {
      "image/png": "[encoded data removed]",
      "text/plain": [
       "<Figure size 576x288 with 2 Axes>"
      ]
     },
     "metadata": {
      "needs_background": "light"
     },
     "output_type": "display_data"
    }
   ],
   "source": [
    "# define the function\n",
    "def training_vis(hist):\n",
    "    loss = hist.history['loss']\n",
    "    val_loss = hist.history['val_loss']\n",
    "    acc = hist.history['accuracy']  # new version => hist.history['accuracy'] \n",
    "    val_acc = hist.history['val_accuracy'] #=> hist.history['val_accuracy'] \n",
    "    \n",
    "    # make a figure\n",
    "    fig = plt.figure(figsize=(8,4))\n",
    "    # subplot loss\n",
    "    ax1 = fig.add_subplot(121)\n",
    "    ax1.plot(loss,label='train_loss')\n",
    "    ax1.plot(val_loss,label='val_loss')\n",
    "    ax1.set_xlabel('Epochs')\n",
    "    ax1.set_ylabel('Loss')\n",
    "    ax1.set_title('Loss on Training and Validation Data')\n",
    "    ax1.legend()\n",
    "    # subplot acc\n",
    "    ax2 = fig.add_subplot(122)\n",
    "    ax2.plot(acc,label='train_acc')\n",
    "    ax2.plot(val_acc,label='val_acc')\n",
    "    ax2.set_xlabel('Epochs')\n",
    "    ax2.set_ylabel('Accuracy')\n",
    "    ax2.set_title('Accuracy  on Training and Validation Data')\n",
    "    ax2.legend()\n",
    "    plt.tight_layout()\n",
    "\n",
    "training_vis(hist)"
   ]
  },
  {
   "cell_type": "markdown",
   "metadata": {},
   "source": [
    "# 模型测试"
   ]
  },
  {
   "cell_type": "code",
   "execution_count": 48,
   "metadata": {},
   "outputs": [
    {
     "name": "stdout",
     "output_type": "stream",
     "text": [
      "这不是讽刺标题\n",
      "这不是讽刺标题\n",
      "这是讽刺标题\n",
      "这是讽刺标题\n",
      "这不是讽刺标题\n",
      "这不是讽刺标题\n",
      "这不是讽刺标题\n",
      "这不是讽刺标题\n",
      "这是讽刺标题\n",
      "这不是讽刺标题\n",
      "[0 0 1 1 0 0 0 0 1 0]\n"
     ]
    }
   ],
   "source": [
    "result=model.predict(test_pad[:10])\n",
    "for i in range(10):\n",
    "    if result[i]>0.5:\n",
    "        print(\"这是讽刺标题\")\n",
    "    else:\n",
    "        print(\"这不是讽刺标题\")\n",
    "print(test_labels[:10])"
   ]
  }
 ],
 "metadata": {
  "interpreter": {
   "hash": "916dbcbb3f70747c44a77c7bcd40155683ae19c65e1c03b4aa3499c5328201f1"
  },
  "kernelspec": {
   "display_name": "Python 3.8.10 64-bit",
   "language": "python",
   "name": "python3"
  },
  "language_info": {
   "codemirror_mode": {
    "name": "ipython",
    "version": 3
   },
   "file_extension": ".py",
   "mimetype": "text/x-python",
   "name": "python",
   "nbconvert_exporter": "python",
   "pygments_lexer": "ipython3",
   "version": "3.9.7"
  },
  "orig_nbformat": 4
 },
 "nbformat": 4,
 "nbformat_minor": 2
}
